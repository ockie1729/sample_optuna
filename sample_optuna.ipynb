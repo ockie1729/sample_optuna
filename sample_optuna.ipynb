{
 "cells": [
  {
   "cell_type": "markdown",
   "id": "measured-knitting",
   "metadata": {},
   "source": [
    "# optunaのチュートリアルを試す"
   ]
  },
  {
   "cell_type": "code",
   "execution_count": 1,
   "id": "bright-midwest",
   "metadata": {},
   "outputs": [],
   "source": [
    "%load_ext pycodestyle_magic\n",
    "%pycodestyle_on"
   ]
  },
  {
   "cell_type": "code",
   "execution_count": 2,
   "id": "french-separation",
   "metadata": {},
   "outputs": [],
   "source": [
    "def objective(x: float) -> float:\n",
    "    return (x - 2) ** 2"
   ]
  },
  {
   "cell_type": "code",
   "execution_count": 3,
   "id": "existing-minneapolis",
   "metadata": {},
   "outputs": [
    {
     "name": "stdout",
     "output_type": "stream",
     "text": [
      "min value of objective function: 0.01892634147578156\n"
     ]
    }
   ],
   "source": [
    "import random\n",
    "\n",
    "outputs = []\n",
    "\n",
    "for _ in range(100):\n",
    "    x = random.uniform(-100, 100)\n",
    "    objective_value = objective(x)\n",
    "    outputs.append(objective_value)\n",
    "\n",
    "min_output = min(outputs)\n",
    "print(f'min value of objective function: {min_output}')"
   ]
  },
  {
   "cell_type": "code",
   "execution_count": 4,
   "id": "nominated-recovery",
   "metadata": {},
   "outputs": [],
   "source": [
    "def objective(trial):\n",
    "    x = trial.suggest_float('x', -100, 100)\n",
    "    return (x - 2) ** 2"
   ]
  },
  {
   "cell_type": "code",
   "execution_count": 5,
   "id": "attended-irrigation",
   "metadata": {},
   "outputs": [
    {
     "name": "stderr",
     "output_type": "stream",
     "text": [
      "\u001b[32m[I 2022-01-12 23:57:09,006]\u001b[0m A new study created in memory with name: no-name-8f301c7a-52a2-4c54-ac97-6d4c5b82195a\u001b[0m\n",
      "\u001b[32m[I 2022-01-12 23:57:09,009]\u001b[0m Trial 0 finished with value: 4937.291578019688 and parameters: {'x': 72.26586353286842}. Best is trial 0 with value: 4937.291578019688.\u001b[0m\n",
      "\u001b[32m[I 2022-01-12 23:57:09,010]\u001b[0m Trial 1 finished with value: 8186.440850603118 and parameters: {'x': -88.47895252821574}. Best is trial 0 with value: 4937.291578019688.\u001b[0m\n",
      "\u001b[32m[I 2022-01-12 23:57:09,011]\u001b[0m Trial 2 finished with value: 3835.2958309722644 and parameters: {'x': 63.92976530693673}. Best is trial 2 with value: 3835.2958309722644.\u001b[0m\n",
      "\u001b[32m[I 2022-01-12 23:57:09,013]\u001b[0m Trial 3 finished with value: 4295.485411558015 and parameters: {'x': 67.5399527887991}. Best is trial 2 with value: 3835.2958309722644.\u001b[0m\n",
      "\u001b[32m[I 2022-01-12 23:57:09,015]\u001b[0m Trial 4 finished with value: 5318.062074497932 and parameters: {'x': 74.92504422006155}. Best is trial 2 with value: 3835.2958309722644.\u001b[0m\n",
      "\u001b[32m[I 2022-01-12 23:57:09,017]\u001b[0m Trial 5 finished with value: 1236.5336648058703 and parameters: {'x': 37.16438062593838}. Best is trial 5 with value: 1236.5336648058703.\u001b[0m\n",
      "\u001b[32m[I 2022-01-12 23:57:09,018]\u001b[0m Trial 6 finished with value: 2680.583156231425 and parameters: {'x': -49.7743484385021}. Best is trial 5 with value: 1236.5336648058703.\u001b[0m\n",
      "\u001b[32m[I 2022-01-12 23:57:09,021]\u001b[0m Trial 7 finished with value: 495.82245601691676 and parameters: {'x': 24.26707111447118}. Best is trial 7 with value: 495.82245601691676.\u001b[0m\n",
      "\u001b[32m[I 2022-01-12 23:57:09,023]\u001b[0m Trial 8 finished with value: 224.74323707252333 and parameters: {'x': 16.991438792608378}. Best is trial 8 with value: 224.74323707252333.\u001b[0m\n",
      "\u001b[32m[I 2022-01-12 23:57:09,024]\u001b[0m Trial 9 finished with value: 2859.025665344438 and parameters: {'x': 55.46985753996768}. Best is trial 8 with value: 224.74323707252333.\u001b[0m\n",
      "\u001b[32m[I 2022-01-12 23:57:09,033]\u001b[0m Trial 10 finished with value: 606.4102138420365 and parameters: {'x': -22.62539773977339}. Best is trial 8 with value: 224.74323707252333.\u001b[0m\n",
      "\u001b[32m[I 2022-01-12 23:57:09,041]\u001b[0m Trial 11 finished with value: 244.59357704678888 and parameters: {'x': 17.639487748861498}. Best is trial 8 with value: 224.74323707252333.\u001b[0m\n",
      "\u001b[32m[I 2022-01-12 23:57:09,057]\u001b[0m Trial 12 finished with value: 13.109702198846861 and parameters: {'x': -1.6207322738428012}. Best is trial 12 with value: 13.109702198846861.\u001b[0m\n",
      "\u001b[32m[I 2022-01-12 23:57:09,074]\u001b[0m Trial 13 finished with value: 153.20608440718655 and parameters: {'x': -10.377644541963004}. Best is trial 12 with value: 13.109702198846861.\u001b[0m\n",
      "\u001b[32m[I 2022-01-12 23:57:09,090]\u001b[0m Trial 14 finished with value: 301.7994869984639 and parameters: {'x': -15.372377125726459}. Best is trial 12 with value: 13.109702198846861.\u001b[0m\n",
      "\u001b[32m[I 2022-01-12 23:57:09,098]\u001b[0m Trial 15 finished with value: 1690.7991572334558 and parameters: {'x': -39.11932826826644}. Best is trial 12 with value: 13.109702198846861.\u001b[0m\n",
      "\u001b[32m[I 2022-01-12 23:57:09,108]\u001b[0m Trial 16 finished with value: 5172.539250686772 and parameters: {'x': -69.9203674259717}. Best is trial 12 with value: 13.109702198846861.\u001b[0m\n",
      "\u001b[32m[I 2022-01-12 23:57:09,121]\u001b[0m Trial 17 finished with value: 47.59027401953552 and parameters: {'x': -4.898570433034334}. Best is trial 12 with value: 13.109702198846861.\u001b[0m\n",
      "\u001b[32m[I 2022-01-12 23:57:09,134]\u001b[0m Trial 18 finished with value: 8279.635105583384 and parameters: {'x': 92.9925002710849}. Best is trial 12 with value: 13.109702198846861.\u001b[0m\n",
      "\u001b[32m[I 2022-01-12 23:57:09,143]\u001b[0m Trial 19 finished with value: 0.07483918563428768 and parameters: {'x': 1.7264324843218997}. Best is trial 19 with value: 0.07483918563428768.\u001b[0m\n"
     ]
    }
   ],
   "source": [
    "import optuna\n",
    "study = optuna.create_study()\n",
    "study.optimize(objective, n_trials=20)"
   ]
  },
  {
   "cell_type": "code",
   "execution_count": 6,
   "id": "narrative-expense",
   "metadata": {},
   "outputs": [
    {
     "name": "stdout",
     "output_type": "stream",
     "text": [
      "min value of objective function: 0.07483918563428768\n",
      "input {'x': 1.7264324843218997}\n"
     ]
    }
   ],
   "source": [
    "print(f'min value of objective function: {study.best_value}')\n",
    "print(f'input {study.best_params}')"
   ]
  },
  {
   "cell_type": "code",
   "execution_count": 7,
   "id": "every-volleyball",
   "metadata": {},
   "outputs": [],
   "source": [
    "import sklearn\n",
    "from sklearn import datasets\n",
    "\n",
    "\n",
    "def objective(trial):\n",
    "    alpha: float = trial.suggest_float('alpha', 0.0, 2.0)\n",
    "\n",
    "    X, y = datasets.load_boston(return_X_y=True)\n",
    "    X_train, X_val, y_train, y_val = \\\n",
    "        sklearn.model_selection.train_test_split(X, y, random_state=0)\n",
    "\n",
    "    model = sklearn.linear_model.Lasso(alpha=alpha)\n",
    "    model.fit(X_train, y_train)\n",
    "\n",
    "    y_pred = model.predict(X_val)\n",
    "    error = sklearn.metrics.mean_squared_error(y_val, y_pred)\n",
    "\n",
    "    return error"
   ]
  },
  {
   "cell_type": "code",
   "execution_count": 8,
   "id": "blank-serbia",
   "metadata": {},
   "outputs": [
    {
     "name": "stderr",
     "output_type": "stream",
     "text": [
      "\u001b[32m[I 2022-01-12 23:57:09,245]\u001b[0m A new study created in memory with name: no-name-77a5d9af-bb12-4177-a326-1a31515621a5\u001b[0m\n",
      "\u001b[32m[I 2022-01-12 23:57:09,262]\u001b[0m Trial 0 finished with value: 40.53642316232884 and parameters: {'alpha': 1.7897545481620003}. Best is trial 0 with value: 40.53642316232884.\u001b[0m\n",
      "\u001b[32m[I 2022-01-12 23:57:09,281]\u001b[0m Trial 1 finished with value: 40.36622806920371 and parameters: {'alpha': 1.7415477964301678}. Best is trial 1 with value: 40.36622806920371.\u001b[0m\n",
      "\u001b[32m[I 2022-01-12 23:57:09,290]\u001b[0m Trial 2 finished with value: 41.0734559986292 and parameters: {'alpha': 1.9345583931030885}. Best is trial 1 with value: 40.36622806920371.\u001b[0m\n",
      "\u001b[32m[I 2022-01-12 23:57:09,300]\u001b[0m Trial 3 finished with value: 30.710571611625056 and parameters: {'alpha': 0.024688672483655028}. Best is trial 3 with value: 30.710571611625056.\u001b[0m\n",
      "\u001b[32m[I 2022-01-12 23:57:09,308]\u001b[0m Trial 4 finished with value: 33.78001868470387 and parameters: {'alpha': 0.5723148763341834}. Best is trial 3 with value: 30.710571611625056.\u001b[0m\n",
      "\u001b[32m[I 2022-01-12 23:57:09,314]\u001b[0m Trial 5 finished with value: 32.743399206991754 and parameters: {'alpha': 0.30773258658621305}. Best is trial 3 with value: 30.710571611625056.\u001b[0m\n",
      "\u001b[32m[I 2022-01-12 23:57:09,321]\u001b[0m Trial 6 finished with value: 36.23931437776848 and parameters: {'alpha': 0.9519459996810109}. Best is trial 3 with value: 30.710571611625056.\u001b[0m\n",
      "\u001b[32m[I 2022-01-12 23:57:09,329]\u001b[0m Trial 7 finished with value: 32.4302300538493 and parameters: {'alpha': 0.16203671893714255}. Best is trial 3 with value: 30.710571611625056.\u001b[0m\n",
      "\u001b[32m[I 2022-01-12 23:57:09,337]\u001b[0m Trial 8 finished with value: 36.98090903324154 and parameters: {'alpha': 1.0408360888862134}. Best is trial 3 with value: 30.710571611625056.\u001b[0m\n",
      "\u001b[32m[I 2022-01-12 23:57:09,343]\u001b[0m Trial 9 finished with value: 39.091909789374384 and parameters: {'alpha': 1.3330860087499485}. Best is trial 3 with value: 30.710571611625056.\u001b[0m\n",
      "\u001b[32m[I 2022-01-12 23:57:09,356]\u001b[0m Trial 10 finished with value: 34.037182702229245 and parameters: {'alpha': 0.6204862692790514}. Best is trial 3 with value: 30.710571611625056.\u001b[0m\n",
      "\u001b[32m[I 2022-01-12 23:57:09,368]\u001b[0m Trial 11 finished with value: 31.987842717806142 and parameters: {'alpha': 0.08005203534365535}. Best is trial 3 with value: 30.710571611625056.\u001b[0m\n",
      "\u001b[32m[I 2022-01-12 23:57:09,378]\u001b[0m Trial 12 finished with value: 30.51887797606683 and parameters: {'alpha': 0.020613078721253723}. Best is trial 12 with value: 30.51887797606683.\u001b[0m\n",
      "\u001b[32m[I 2022-01-12 23:57:09,387]\u001b[0m Trial 13 finished with value: 30.27757089144082 and parameters: {'alpha': 0.014945213577166836}. Best is trial 13 with value: 30.27757089144082.\u001b[0m\n",
      "\u001b[32m[I 2022-01-12 23:57:09,395]\u001b[0m Trial 14 finished with value: 33.27417684006809 and parameters: {'alpha': 0.46327804567870146}. Best is trial 13 with value: 30.27757089144082.\u001b[0m\n",
      "\u001b[32m[I 2022-01-12 23:57:09,410]\u001b[0m Trial 15 finished with value: 34.85990642370831 and parameters: {'alpha': 0.7604970334967798}. Best is trial 13 with value: 30.27757089144082.\u001b[0m\n",
      "\u001b[32m[I 2022-01-12 23:57:09,431]\u001b[0m Trial 16 finished with value: 32.686118526268736 and parameters: {'alpha': 0.28632535787732655}. Best is trial 13 with value: 30.27757089144082.\u001b[0m\n",
      "\u001b[32m[I 2022-01-12 23:57:09,446]\u001b[0m Trial 17 finished with value: 32.8722741157046 and parameters: {'alpha': 0.35152775475911}. Best is trial 13 with value: 30.27757089144082.\u001b[0m\n",
      "\u001b[32m[I 2022-01-12 23:57:09,462]\u001b[0m Trial 18 finished with value: 39.2945263609427 and parameters: {'alpha': 1.4051389170373376}. Best is trial 13 with value: 30.27757089144082.\u001b[0m\n",
      "\u001b[32m[I 2022-01-12 23:57:09,474]\u001b[0m Trial 19 finished with value: 35.16662806068266 and parameters: {'alpha': 0.8068181910611456}. Best is trial 13 with value: 30.27757089144082.\u001b[0m\n",
      "\u001b[32m[I 2022-01-12 23:57:09,491]\u001b[0m Trial 20 finished with value: 29.990242655267 and parameters: {'alpha': 0.007043430652599774}. Best is trial 20 with value: 29.990242655267.\u001b[0m\n",
      "\u001b[32m[I 2022-01-12 23:57:09,508]\u001b[0m Trial 21 finished with value: 31.85878298412954 and parameters: {'alpha': 0.049024141727345115}. Best is trial 20 with value: 29.990242655267.\u001b[0m\n",
      "\u001b[32m[I 2022-01-12 23:57:09,525]\u001b[0m Trial 22 finished with value: 32.5351126516406 and parameters: {'alpha': 0.22079251890879684}. Best is trial 20 with value: 29.990242655267.\u001b[0m\n",
      "\u001b[32m[I 2022-01-12 23:57:09,550]\u001b[0m Trial 23 finished with value: 30.028232002586336 and parameters: {'alpha': 0.008185258019583697}. Best is trial 20 with value: 29.990242655267.\u001b[0m\n",
      "\u001b[32m[I 2022-01-12 23:57:09,563]\u001b[0m Trial 24 finished with value: 32.79037159113846 and parameters: {'alpha': 0.3243388241310679}. Best is trial 20 with value: 29.990242655267.\u001b[0m\n",
      "\u001b[32m[I 2022-01-12 23:57:09,576]\u001b[0m Trial 25 finished with value: 33.251992843825256 and parameters: {'alpha': 0.4577854429989122}. Best is trial 20 with value: 29.990242655267.\u001b[0m\n",
      "\u001b[32m[I 2022-01-12 23:57:09,588]\u001b[0m Trial 26 finished with value: 32.4570999041389 and parameters: {'alpha': 0.178762006617269}. Best is trial 20 with value: 29.990242655267.\u001b[0m\n",
      "\u001b[32m[I 2022-01-12 23:57:09,603]\u001b[0m Trial 27 finished with value: 33.2315653978437 and parameters: {'alpha': 0.45271378961585335}. Best is trial 20 with value: 29.990242655267.\u001b[0m\n",
      "\u001b[32m[I 2022-01-12 23:57:09,622]\u001b[0m Trial 28 finished with value: 38.95319598874248 and parameters: {'alpha': 1.281945595143851}. Best is trial 20 with value: 29.990242655267.\u001b[0m\n",
      "\u001b[32m[I 2022-01-12 23:57:09,642]\u001b[0m Trial 29 finished with value: 32.45744827968678 and parameters: {'alpha': 0.1789696656802586}. Best is trial 20 with value: 29.990242655267.\u001b[0m\n",
      "\u001b[32m[I 2022-01-12 23:57:09,658]\u001b[0m Trial 30 finished with value: 34.91991796181503 and parameters: {'alpha': 0.7697683635475651}. Best is trial 20 with value: 29.990242655267.\u001b[0m\n",
      "\u001b[32m[I 2022-01-12 23:57:09,670]\u001b[0m Trial 31 finished with value: 30.93552603380508 and parameters: {'alpha': 0.029106238611231947}. Best is trial 20 with value: 29.990242655267.\u001b[0m\n",
      "\u001b[32m[I 2022-01-12 23:57:09,681]\u001b[0m Trial 32 finished with value: 30.508780330985214 and parameters: {'alpha': 0.020389015944792747}. Best is trial 20 with value: 29.990242655267.\u001b[0m\n",
      "\u001b[32m[I 2022-01-12 23:57:09,698]\u001b[0m Trial 33 finished with value: 32.368592929847075 and parameters: {'alpha': 0.14152633590933783}. Best is trial 20 with value: 29.990242655267.\u001b[0m\n",
      "\u001b[32m[I 2022-01-12 23:57:09,712]\u001b[0m Trial 34 finished with value: 29.879275964141623 and parameters: {'alpha': 0.003477275416167217}. Best is trial 34 with value: 29.879275964141623.\u001b[0m\n",
      "\u001b[32m[I 2022-01-12 23:57:09,729]\u001b[0m Trial 35 finished with value: 40.00690860531429 and parameters: {'alpha': 1.6355593379839974}. Best is trial 34 with value: 29.879275964141623.\u001b[0m\n",
      "\u001b[32m[I 2022-01-12 23:57:09,749]\u001b[0m Trial 36 finished with value: 33.9474501233408 and parameters: {'alpha': 0.6040494226293815}. Best is trial 34 with value: 29.879275964141623.\u001b[0m\n",
      "\u001b[32m[I 2022-01-12 23:57:09,762]\u001b[0m Trial 37 finished with value: 32.67872656858631 and parameters: {'alpha': 0.2834458395926437}. Best is trial 34 with value: 29.879275964141623.\u001b[0m\n",
      "\u001b[32m[I 2022-01-12 23:57:09,782]\u001b[0m Trial 38 finished with value: 32.94898454376493 and parameters: {'alpha': 0.3753055902453862}. Best is trial 34 with value: 29.879275964141623.\u001b[0m\n",
      "\u001b[32m[I 2022-01-12 23:57:09,798]\u001b[0m Trial 39 finished with value: 41.14238169561059 and parameters: {'alpha': 1.9524648005954206}. Best is trial 34 with value: 29.879275964141623.\u001b[0m\n",
      "\u001b[32m[I 2022-01-12 23:57:09,814]\u001b[0m Trial 40 finished with value: 32.33172518933529 and parameters: {'alpha': 0.13656830213914775}. Best is trial 34 with value: 29.879275964141623.\u001b[0m\n",
      "\u001b[32m[I 2022-01-12 23:57:09,826]\u001b[0m Trial 41 finished with value: 32.06578259170236 and parameters: {'alpha': 0.09512441044077424}. Best is trial 34 with value: 29.879275964141623.\u001b[0m\n",
      "\u001b[32m[I 2022-01-12 23:57:09,836]\u001b[0m Trial 42 finished with value: 30.563099180941613 and parameters: {'alpha': 0.021582575049473328}. Best is trial 34 with value: 29.879275964141623.\u001b[0m\n",
      "\u001b[32m[I 2022-01-12 23:57:09,845]\u001b[0m Trial 43 finished with value: 32.57025338211329 and parameters: {'alpha': 0.23752938751178362}. Best is trial 34 with value: 29.879275964141623.\u001b[0m\n",
      "\u001b[32m[I 2022-01-12 23:57:09,853]\u001b[0m Trial 44 finished with value: 30.303821725792545 and parameters: {'alpha': 0.015596958253337765}. Best is trial 34 with value: 29.879275964141623.\u001b[0m\n",
      "\u001b[32m[I 2022-01-12 23:57:09,864]\u001b[0m Trial 45 finished with value: 32.27470003553172 and parameters: {'alpha': 0.12859426970969004}. Best is trial 34 with value: 29.879275964141623.\u001b[0m\n",
      "\u001b[32m[I 2022-01-12 23:57:09,873]\u001b[0m Trial 46 finished with value: 33.03793525016902 and parameters: {'alpha': 0.401204729413423}. Best is trial 34 with value: 29.879275964141623.\u001b[0m\n",
      "\u001b[32m[I 2022-01-12 23:57:09,884]\u001b[0m Trial 47 finished with value: 33.65862250077322 and parameters: {'alpha': 0.5483688167368689}. Best is trial 34 with value: 29.879275964141623.\u001b[0m\n",
      "\u001b[32m[I 2022-01-12 23:57:09,895]\u001b[0m Trial 48 finished with value: 32.55678665275826 and parameters: {'alpha': 0.23124665384176368}. Best is trial 34 with value: 29.879275964141623.\u001b[0m\n",
      "\u001b[32m[I 2022-01-12 23:57:09,906]\u001b[0m Trial 49 finished with value: 37.62415425414617 and parameters: {'alpha': 1.1119722661090994}. Best is trial 34 with value: 29.879275964141623.\u001b[0m\n",
      "\u001b[32m[I 2022-01-12 23:57:09,921]\u001b[0m Trial 50 finished with value: 32.00457465374281 and parameters: {'alpha': 0.08345680335609881}. Best is trial 34 with value: 29.879275964141623.\u001b[0m\n",
      "\u001b[32m[I 2022-01-12 23:57:09,933]\u001b[0m Trial 51 finished with value: 29.827483101273074 and parameters: {'alpha': 0.0016706150888605373}. Best is trial 51 with value: 29.827483101273074.\u001b[0m\n",
      "\u001b[32m[I 2022-01-12 23:57:09,945]\u001b[0m Trial 52 finished with value: 29.86172245175143 and parameters: {'alpha': 0.0028765330044525058}. Best is trial 51 with value: 29.827483101273074.\u001b[0m\n",
      "\u001b[32m[I 2022-01-12 23:57:09,956]\u001b[0m Trial 53 finished with value: 32.23205516677486 and parameters: {'alpha': 0.12235839276536067}. Best is trial 51 with value: 29.827483101273074.\u001b[0m\n",
      "\u001b[32m[I 2022-01-12 23:57:09,970]\u001b[0m Trial 54 finished with value: 32.54162956084458 and parameters: {'alpha': 0.22398273827549695}. Best is trial 51 with value: 29.827483101273074.\u001b[0m\n",
      "\u001b[32m[I 2022-01-12 23:57:09,995]\u001b[0m Trial 55 finished with value: 32.019000757747946 and parameters: {'alpha': 0.08631230459314991}. Best is trial 51 with value: 29.827483101273074.\u001b[0m\n",
      "\u001b[32m[I 2022-01-12 23:57:10,017]\u001b[0m Trial 56 finished with value: 32.67369844082274 and parameters: {'alpha': 0.2814714863613195}. Best is trial 51 with value: 29.827483101273074.\u001b[0m\n",
      "\u001b[32m[I 2022-01-12 23:57:10,038]\u001b[0m Trial 57 finished with value: 32.480906910007704 and parameters: {'alpha': 0.19248885314457231}. Best is trial 51 with value: 29.827483101273074.\u001b[0m\n",
      "\u001b[32m[I 2022-01-12 23:57:10,052]\u001b[0m Trial 58 finished with value: 30.22116675220346 and parameters: {'alpha': 0.013510824132948351}. Best is trial 51 with value: 29.827483101273074.\u001b[0m\n",
      "\u001b[32m[I 2022-01-12 23:57:10,063]\u001b[0m Trial 59 finished with value: 40.41588955418912 and parameters: {'alpha': 1.7557377142273642}. Best is trial 51 with value: 29.827483101273074.\u001b[0m\n",
      "\u001b[32m[I 2022-01-12 23:57:10,082]\u001b[0m Trial 60 finished with value: 31.97873462030413 and parameters: {'alpha': 0.07815354779892615}. Best is trial 51 with value: 29.827483101273074.\u001b[0m\n",
      "\u001b[32m[I 2022-01-12 23:57:10,098]\u001b[0m Trial 61 finished with value: 30.198083304544273 and parameters: {'alpha': 0.01290954892154976}. Best is trial 51 with value: 29.827483101273074.\u001b[0m\n",
      "\u001b[32m[I 2022-01-12 23:57:10,127]\u001b[0m Trial 62 finished with value: 32.428927298916655 and parameters: {'alpha': 0.16118661818007543}. Best is trial 51 with value: 29.827483101273074.\u001b[0m\n",
      "\u001b[32m[I 2022-01-12 23:57:10,150]\u001b[0m Trial 63 finished with value: 29.94362821778525 and parameters: {'alpha': 0.00559033919568651}. Best is trial 51 with value: 29.827483101273074.\u001b[0m\n",
      "\u001b[32m[I 2022-01-12 23:57:10,167]\u001b[0m Trial 64 finished with value: 32.082778628180186 and parameters: {'alpha': 0.09817581774235704}. Best is trial 51 with value: 29.827483101273074.\u001b[0m\n",
      "\u001b[32m[I 2022-01-12 23:57:10,181]\u001b[0m Trial 65 finished with value: 29.787799021808315 and parameters: {'alpha': 0.00021036957912810156}. Best is trial 65 with value: 29.787799021808315.\u001b[0m\n",
      "\u001b[32m[I 2022-01-12 23:57:10,195]\u001b[0m Trial 66 finished with value: 32.70701609736586 and parameters: {'alpha': 0.2943237864349059}. Best is trial 65 with value: 29.787799021808315.\u001b[0m\n",
      "\u001b[32m[I 2022-01-12 23:57:10,214]\u001b[0m Trial 67 finished with value: 32.48166199879962 and parameters: {'alpha': 0.19290982438248744}. Best is trial 65 with value: 29.787799021808315.\u001b[0m\n",
      "\u001b[32m[I 2022-01-12 23:57:10,228]\u001b[0m Trial 68 finished with value: 31.986184024796735 and parameters: {'alpha': 0.07970874719778363}. Best is trial 65 with value: 29.787799021808315.\u001b[0m\n",
      "\u001b[32m[I 2022-01-12 23:57:10,253]\u001b[0m Trial 69 finished with value: 29.90481916211355 and parameters: {'alpha': 0.004331992372357738}. Best is trial 65 with value: 29.787799021808315.\u001b[0m\n",
      "\u001b[32m[I 2022-01-12 23:57:10,288]\u001b[0m Trial 70 finished with value: 35.55136186938413 and parameters: {'alpha': 0.8615623509051262}. Best is trial 65 with value: 29.787799021808315.\u001b[0m\n",
      "\u001b[32m[I 2022-01-12 23:57:10,306]\u001b[0m Trial 71 finished with value: 29.792194562995217 and parameters: {'alpha': 0.00037578317572950146}. Best is trial 65 with value: 29.787799021808315.\u001b[0m\n",
      "\u001b[32m[I 2022-01-12 23:57:10,325]\u001b[0m Trial 72 finished with value: 31.91935646657909 and parameters: {'alpha': 0.0648675890641735}. Best is trial 65 with value: 29.787799021808315.\u001b[0m\n",
      "\u001b[32m[I 2022-01-12 23:57:10,343]\u001b[0m Trial 73 finished with value: 32.33177411331741 and parameters: {'alpha': 0.13657497936447588}. Best is trial 65 with value: 29.787799021808315.\u001b[0m\n",
      "\u001b[32m[I 2022-01-12 23:57:10,359]\u001b[0m Trial 74 finished with value: 40.01473375986723 and parameters: {'alpha': 1.6379333165470107}. Best is trial 65 with value: 29.787799021808315.\u001b[0m\n",
      "\u001b[32m[I 2022-01-12 23:57:10,379]\u001b[0m Trial 75 finished with value: 32.557647359925525 and parameters: {'alpha': 0.23165287749396665}. Best is trial 65 with value: 29.787799021808315.\u001b[0m\n",
      "\u001b[32m[I 2022-01-12 23:57:10,398]\u001b[0m Trial 76 finished with value: 31.90192382680663 and parameters: {'alpha': 0.06059224272477537}. Best is trial 65 with value: 29.787799021808315.\u001b[0m\n",
      "\u001b[32m[I 2022-01-12 23:57:10,417]\u001b[0m Trial 77 finished with value: 32.85021566702092 and parameters: {'alpha': 0.34440411487385375}. Best is trial 65 with value: 29.787799021808315.\u001b[0m\n",
      "\u001b[32m[I 2022-01-12 23:57:10,433]\u001b[0m Trial 78 finished with value: 32.42628502717682 and parameters: {'alpha': 0.15944979959784275}. Best is trial 65 with value: 29.787799021808315.\u001b[0m\n",
      "\u001b[32m[I 2022-01-12 23:57:10,452]\u001b[0m Trial 79 finished with value: 34.32798227576709 and parameters: {'alpha': 0.6730637199610978}. Best is trial 65 with value: 29.787799021808315.\u001b[0m\n",
      "\u001b[32m[I 2022-01-12 23:57:10,473]\u001b[0m Trial 80 finished with value: 32.64821409098805 and parameters: {'alpha': 0.2712597997371664}. Best is trial 65 with value: 29.787799021808315.\u001b[0m\n",
      "\u001b[32m[I 2022-01-12 23:57:10,491]\u001b[0m Trial 81 finished with value: 30.06765927125265 and parameters: {'alpha': 0.009334206451891527}. Best is trial 65 with value: 29.787799021808315.\u001b[0m\n",
      "\u001b[32m[I 2022-01-12 23:57:10,512]\u001b[0m Trial 82 finished with value: 29.913659886691363 and parameters: {'alpha': 0.004622722424740702}. Best is trial 65 with value: 29.787799021808315.\u001b[0m\n",
      "\u001b[32m[I 2022-01-12 23:57:10,534]\u001b[0m Trial 83 finished with value: 29.792243668534073 and parameters: {'alpha': 0.00037762638613863045}. Best is trial 65 with value: 29.787799021808315.\u001b[0m\n",
      "\u001b[32m[I 2022-01-12 23:57:10,556]\u001b[0m Trial 84 finished with value: 29.790021918972815 and parameters: {'alpha': 0.00029413577769101364}. Best is trial 65 with value: 29.787799021808315.\u001b[0m\n",
      "\u001b[32m[I 2022-01-12 23:57:10,579]\u001b[0m Trial 85 finished with value: 40.84666389191718 and parameters: {'alpha': 1.8745582551161422}. Best is trial 65 with value: 29.787799021808315.\u001b[0m\n",
      "\u001b[32m[I 2022-01-12 23:57:10,601]\u001b[0m Trial 86 finished with value: 32.216663847545426 and parameters: {'alpha': 0.12004406995299025}. Best is trial 65 with value: 29.787799021808315.\u001b[0m\n",
      "\u001b[32m[I 2022-01-12 23:57:10,618]\u001b[0m Trial 87 finished with value: 32.469483973146076 and parameters: {'alpha': 0.18601607803596618}. Best is trial 65 with value: 29.787799021808315.\u001b[0m\n",
      "\u001b[32m[I 2022-01-12 23:57:10,640]\u001b[0m Trial 88 finished with value: 31.737002540861315 and parameters: {'alpha': 0.04265427578133229}. Best is trial 65 with value: 29.787799021808315.\u001b[0m\n",
      "\u001b[32m[I 2022-01-12 23:57:10,664]\u001b[0m Trial 89 finished with value: 32.13224649377407 and parameters: {'alpha': 0.10666963826766263}. Best is trial 65 with value: 29.787799021808315.\u001b[0m\n",
      "\u001b[32m[I 2022-01-12 23:57:10,686]\u001b[0m Trial 90 finished with value: 31.891863082588255 and parameters: {'alpha': 0.05803048802849669}. Best is trial 65 with value: 29.787799021808315.\u001b[0m\n",
      "\u001b[32m[I 2022-01-12 23:57:10,709]\u001b[0m Trial 91 finished with value: 29.796583870244444 and parameters: {'alpha': 0.0005398699234157958}. Best is trial 65 with value: 29.787799021808315.\u001b[0m\n",
      "\u001b[32m[I 2022-01-12 23:57:10,732]\u001b[0m Trial 92 finished with value: 31.881129802940542 and parameters: {'alpha': 0.05521253816762247}. Best is trial 65 with value: 29.787799021808315.\u001b[0m\n",
      "\u001b[32m[I 2022-01-12 23:57:10,754]\u001b[0m Trial 93 finished with value: 32.33448759374728 and parameters: {'alpha': 0.1369449011831026}. Best is trial 65 with value: 29.787799021808315.\u001b[0m\n",
      "\u001b[32m[I 2022-01-12 23:57:10,780]\u001b[0m Trial 94 finished with value: 31.89799495619376 and parameters: {'alpha': 0.059600564107129286}. Best is trial 65 with value: 29.787799021808315.\u001b[0m\n",
      "\u001b[32m[I 2022-01-12 23:57:10,805]\u001b[0m Trial 95 finished with value: 32.15699184979668 and parameters: {'alpha': 0.11072613144037025}. Best is trial 65 with value: 29.787799021808315.\u001b[0m\n",
      "\u001b[32m[I 2022-01-12 23:57:10,831]\u001b[0m Trial 96 finished with value: 32.46197403725731 and parameters: {'alpha': 0.18164804415785663}. Best is trial 65 with value: 29.787799021808315.\u001b[0m\n",
      "\u001b[32m[I 2022-01-12 23:57:10,853]\u001b[0m Trial 97 finished with value: 29.876084805448023 and parameters: {'alpha': 0.0033688456090568454}. Best is trial 65 with value: 29.787799021808315.\u001b[0m\n",
      "\u001b[32m[I 2022-01-12 23:57:10,876]\u001b[0m Trial 98 finished with value: 29.797095311369034 and parameters: {'alpha': 0.0005588836959839334}. Best is trial 65 with value: 29.787799021808315.\u001b[0m\n",
      "\u001b[32m[I 2022-01-12 23:57:10,900]\u001b[0m Trial 99 finished with value: 31.857628790770647 and parameters: {'alpha': 0.04869132831378832}. Best is trial 65 with value: 29.787799021808315.\u001b[0m\n"
     ]
    },
    {
     "name": "stdout",
     "output_type": "stream",
     "text": [
      "min error: 29.787799021808315\n",
      "best hyper parameter: {'alpha': 0.00021036957912810156}\n"
     ]
    }
   ],
   "source": [
    "study = optuna.create_study()\n",
    "study.optimize(objective, n_trials=100)\n",
    "\n",
    "print(f'min error: {study.best_value}')\n",
    "print(f'best hyper parameter: {study.best_params}')"
   ]
  },
  {
   "cell_type": "raw",
   "id": "fleet-mambo",
   "metadata": {},
   "source": [
    "### trial = 100\n",
    "* min error: 29.80414684666007\n",
    "* best hyper parameter: {'alpha': 0.0008205734359634969}"
   ]
  },
  {
   "cell_type": "raw",
   "id": "approved-aggregate",
   "metadata": {},
   "source": [
    "### trial = 500\n",
    "min error: 29.782482609923758\n",
    "best hyper parameter: {'alpha': 9.024514935537407e-06}"
   ]
  },
  {
   "cell_type": "code",
   "execution_count": 9,
   "id": "australian-intellectual",
   "metadata": {},
   "outputs": [
    {
     "name": "stderr",
     "output_type": "stream",
     "text": [
      "3:1: W293 blank line contains whitespace\n",
      "10:1: W293 blank line contains whitespace\n",
      "17:1: W293 blank line contains whitespace\n",
      "19:1: W293 blank line contains whitespace\n",
      "22:1: W293 blank line contains whitespace\n"
     ]
    }
   ],
   "source": [
    "def objective(trial):\n",
    "    alpha: float = trial.suggest_float('alpha', 0.0, 2.0)\n",
    "        \n",
    "    X, y = sklearn.datasets.load_boston(return_X_y=True)\n",
    "    X_train, X_val, y_train, y_val = \\\n",
    "        sklearn.model_selection.train_test_split(X, y, random_state=0)\n",
    "\n",
    "    regression_method = trial.suggest_categorical('regression_method',\n",
    "                                                  ('ridge', 'lasso'))\n",
    "    \n",
    "    if regression_method == 'ridge':\n",
    "        ridge_alpha = trial.suggest_float('ridge_alpha', 0.0, 2.0)\n",
    "        model = sklearn.linear_model.Ridge(alpha=ridge_alpha)\n",
    "    else:\n",
    "        lasso_alpha = trial.suggest_float('lasso_alpha', 0.0, 2.0)\n",
    "        model = sklearn.linear_model.Lasso(alpha=lasso_alpha)\n",
    "    \n",
    "    model.fit(X_train, y_train)\n",
    "    \n",
    "    y_pred = model.predict(X_val)\n",
    "    error = sklearn.metrics.mean_squared_error(y_val, y_pred)\n",
    "    \n",
    "    return error"
   ]
  },
  {
   "cell_type": "code",
   "execution_count": 10,
   "id": "casual-hampton",
   "metadata": {},
   "outputs": [
    {
     "name": "stderr",
     "output_type": "stream",
     "text": [
      "\u001b[32m[I 2022-01-12 23:57:10,976]\u001b[0m A new study created in memory with name: no-name-f98d5f4c-6ad4-4ecd-96c6-8106b0a30d1a\u001b[0m\n",
      "\u001b[32m[I 2022-01-12 23:57:11,003]\u001b[0m Trial 0 finished with value: 39.16200585363922 and parameters: {'alpha': 1.9928703540969417, 'regression_method': 'lasso', 'lasso_alpha': 1.3583938653411516}. Best is trial 0 with value: 39.16200585363922.\u001b[0m\n",
      "\u001b[32m[I 2022-01-12 23:57:11,019]\u001b[0m Trial 1 finished with value: 30.149307556968925 and parameters: {'alpha': 1.7855265544413168, 'regression_method': 'ridge', 'ridge_alpha': 0.41837745901638734}. Best is trial 1 with value: 30.149307556968925.\u001b[0m\n",
      "\u001b[32m[I 2022-01-12 23:57:11,034]\u001b[0m Trial 2 finished with value: 30.322926907304453 and parameters: {'alpha': 0.28559017458782976, 'regression_method': 'ridge', 'ridge_alpha': 0.6707748825547171}. Best is trial 1 with value: 30.149307556968925.\u001b[0m\n",
      "\u001b[32m[I 2022-01-12 23:57:11,043]\u001b[0m Trial 3 finished with value: 30.624679094572556 and parameters: {'alpha': 1.2043441786285907, 'regression_method': 'ridge', 'ridge_alpha': 1.2681973567387126}. Best is trial 1 with value: 30.149307556968925.\u001b[0m\n",
      "\u001b[32m[I 2022-01-12 23:57:11,056]\u001b[0m Trial 4 finished with value: 32.151487339571446 and parameters: {'alpha': 1.3636666272681273, 'regression_method': 'lasso', 'lasso_alpha': 0.10983396485234298}. Best is trial 1 with value: 30.149307556968925.\u001b[0m\n",
      "\u001b[32m[I 2022-01-12 23:57:11,064]\u001b[0m Trial 5 finished with value: 36.807512908227324 and parameters: {'alpha': 0.15630181748857375, 'regression_method': 'lasso', 'lasso_alpha': 1.020805034044582}. Best is trial 1 with value: 30.149307556968925.\u001b[0m\n",
      "\u001b[32m[I 2022-01-12 23:57:11,074]\u001b[0m Trial 6 finished with value: 40.31172294197729 and parameters: {'alpha': 0.07085375211711353, 'regression_method': 'lasso', 'lasso_alpha': 1.7258527342075825}. Best is trial 1 with value: 30.149307556968925.\u001b[0m\n",
      "\u001b[32m[I 2022-01-12 23:57:11,084]\u001b[0m Trial 7 finished with value: 40.78550067710115 and parameters: {'alpha': 0.144059076906915, 'regression_method': 'lasso', 'lasso_alpha': 1.8580776306773639}. Best is trial 1 with value: 30.149307556968925.\u001b[0m\n",
      "\u001b[32m[I 2022-01-12 23:57:11,092]\u001b[0m Trial 8 finished with value: 32.527935855762856 and parameters: {'alpha': 0.2230433294619829, 'regression_method': 'lasso', 'lasso_alpha': 0.2172298654288365}. Best is trial 1 with value: 30.149307556968925.\u001b[0m\n",
      "\u001b[32m[I 2022-01-12 23:57:11,101]\u001b[0m Trial 9 finished with value: 30.687682495688584 and parameters: {'alpha': 0.11030229012918413, 'regression_method': 'ridge', 'ridge_alpha': 1.4311429191948082}. Best is trial 1 with value: 30.149307556968925.\u001b[0m\n",
      "\u001b[32m[I 2022-01-12 23:57:11,113]\u001b[0m Trial 10 finished with value: 29.82325845470643 and parameters: {'alpha': 1.9946988127266878, 'regression_method': 'ridge', 'ridge_alpha': 0.04211316460387138}. Best is trial 10 with value: 29.82325845470643.\u001b[0m\n",
      "\u001b[32m[I 2022-01-12 23:57:11,125]\u001b[0m Trial 11 finished with value: 29.806504638895866 and parameters: {'alpha': 1.924243664592005, 'regression_method': 'ridge', 'ridge_alpha': 0.024838207342315732}. Best is trial 11 with value: 29.806504638895866.\u001b[0m\n",
      "\u001b[32m[I 2022-01-12 23:57:11,138]\u001b[0m Trial 12 finished with value: 29.79588774302238 and parameters: {'alpha': 1.589280171553074, 'regression_method': 'ridge', 'ridge_alpha': 0.013944879139117341}. Best is trial 12 with value: 29.79588774302238.\u001b[0m\n",
      "\u001b[32m[I 2022-01-12 23:57:11,151]\u001b[0m Trial 13 finished with value: 29.801409558882366 and parameters: {'alpha': 1.5542382845007032, 'regression_method': 'ridge', 'ridge_alpha': 0.019605624514943524}. Best is trial 12 with value: 29.79588774302238.\u001b[0m\n",
      "\u001b[32m[I 2022-01-12 23:57:11,162]\u001b[0m Trial 14 finished with value: 30.287281409267173 and parameters: {'alpha': 1.528011074337333, 'regression_method': 'ridge', 'ridge_alpha': 0.6148137476135006}. Best is trial 12 with value: 29.79588774302238.\u001b[0m\n",
      "\u001b[32m[I 2022-01-12 23:57:11,185]\u001b[0m Trial 15 finished with value: 30.80635825805744 and parameters: {'alpha': 0.7747272169594214, 'regression_method': 'ridge', 'ridge_alpha': 1.7910108321727158}. Best is trial 12 with value: 29.79588774302238.\u001b[0m\n",
      "\u001b[32m[I 2022-01-12 23:57:11,200]\u001b[0m Trial 16 finished with value: 30.06191499190325 and parameters: {'alpha': 0.8263269187677054, 'regression_method': 'ridge', 'ridge_alpha': 0.3076348211755139}. Best is trial 12 with value: 29.79588774302238.\u001b[0m\n",
      "\u001b[32m[I 2022-01-12 23:57:11,214]\u001b[0m Trial 17 finished with value: 30.450400768486485 and parameters: {'alpha': 1.6488002828357462, 'regression_method': 'ridge', 'ridge_alpha': 0.8927619360385173}. Best is trial 12 with value: 29.79588774302238.\u001b[0m\n",
      "\u001b[32m[I 2022-01-12 23:57:11,225]\u001b[0m Trial 18 finished with value: 30.03087737415602 and parameters: {'alpha': 1.1234593647531672, 'regression_method': 'ridge', 'ridge_alpha': 0.2703879472166173}. Best is trial 12 with value: 29.79588774302238.\u001b[0m\n",
      "\u001b[32m[I 2022-01-12 23:57:11,236]\u001b[0m Trial 19 finished with value: 29.848328528446263 and parameters: {'alpha': 1.4295999564515063, 'regression_method': 'ridge', 'ridge_alpha': 0.06818867039518499}. Best is trial 12 with value: 29.79588774302238.\u001b[0m\n",
      "\u001b[32m[I 2022-01-12 23:57:11,255]\u001b[0m Trial 20 finished with value: 30.49447334958258 and parameters: {'alpha': 0.5639413868994059, 'regression_method': 'ridge', 'ridge_alpha': 0.9787976086486707}. Best is trial 12 with value: 29.79588774302238.\u001b[0m\n",
      "\u001b[32m[I 2022-01-12 23:57:11,269]\u001b[0m Trial 21 finished with value: 29.783302868539515 and parameters: {'alpha': 1.7441291793701703, 'regression_method': 'ridge', 'ridge_alpha': 0.0010792760602555875}. Best is trial 21 with value: 29.783302868539515.\u001b[0m\n",
      "\u001b[32m[I 2022-01-12 23:57:11,281]\u001b[0m Trial 22 finished with value: 30.0969748332639 and parameters: {'alpha': 1.6849442368008853, 'regression_method': 'ridge', 'ridge_alpha': 0.3509658622964921}. Best is trial 21 with value: 29.783302868539515.\u001b[0m\n",
      "\u001b[32m[I 2022-01-12 23:57:11,303]\u001b[0m Trial 23 finished with value: 29.796219536980388 and parameters: {'alpha': 1.293415559193721, 'regression_method': 'ridge', 'ridge_alpha': 0.014284735618615823}. Best is trial 21 with value: 29.783302868539515.\u001b[0m\n",
      "\u001b[32m[I 2022-01-12 23:57:11,319]\u001b[0m Trial 24 finished with value: 30.25922773913712 and parameters: {'alpha': 1.268038877855071, 'regression_method': 'ridge', 'ridge_alpha': 0.572398236249484}. Best is trial 21 with value: 29.783302868539515.\u001b[0m\n",
      "\u001b[32m[I 2022-01-12 23:57:11,336]\u001b[0m Trial 25 finished with value: 30.097048357717526 and parameters: {'alpha': 0.9950172907544803, 'regression_method': 'ridge', 'ridge_alpha': 0.3510582119819443}. Best is trial 21 with value: 29.783302868539515.\u001b[0m\n",
      "\u001b[32m[I 2022-01-12 23:57:11,366]\u001b[0m Trial 26 finished with value: 29.96963091647356 and parameters: {'alpha': 1.7867860070986334, 'regression_method': 'ridge', 'ridge_alpha': 0.19963505723081915}. Best is trial 21 with value: 29.783302868539515.\u001b[0m\n",
      "\u001b[32m[I 2022-01-12 23:57:11,397]\u001b[0m Trial 27 finished with value: 30.371924987418765 and parameters: {'alpha': 1.3731600889277327, 'regression_method': 'ridge', 'ridge_alpha': 0.7518025802499054}. Best is trial 21 with value: 29.783302868539515.\u001b[0m\n",
      "\u001b[32m[I 2022-01-12 23:57:11,424]\u001b[0m Trial 28 finished with value: 30.206263664488635 and parameters: {'alpha': 1.113189237878814, 'regression_method': 'ridge', 'ridge_alpha': 0.4959063407970114}. Best is trial 21 with value: 29.783302868539515.\u001b[0m\n",
      "\u001b[32m[I 2022-01-12 23:57:11,449]\u001b[0m Trial 29 finished with value: 34.129018193570246 and parameters: {'alpha': 1.8477554995114258, 'regression_method': 'lasso', 'lasso_alpha': 0.637431298269766}. Best is trial 21 with value: 29.783302868539515.\u001b[0m\n",
      "\u001b[32m[I 2022-01-12 23:57:11,477]\u001b[0m Trial 30 finished with value: 29.96090863612249 and parameters: {'alpha': 1.5455498246868276, 'regression_method': 'ridge', 'ridge_alpha': 0.18982854695825682}. Best is trial 21 with value: 29.783302868539515.\u001b[0m\n",
      "\u001b[32m[I 2022-01-12 23:57:11,493]\u001b[0m Trial 31 finished with value: 29.789176747475544 and parameters: {'alpha': 1.5991834426664895, 'regression_method': 'ridge', 'ridge_alpha': 0.007078278901947556}. Best is trial 21 with value: 29.783302868539515.\u001b[0m\n",
      "\u001b[32m[I 2022-01-12 23:57:11,506]\u001b[0m Trial 32 finished with value: 29.941517294144532 and parameters: {'alpha': 1.6601793355232823, 'regression_method': 'ridge', 'ridge_alpha': 0.16824639973511937}. Best is trial 21 with value: 29.783302868539515.\u001b[0m\n",
      "\u001b[32m[I 2022-01-12 23:57:11,520]\u001b[0m Trial 33 finished with value: 29.91982283573523 and parameters: {'alpha': 1.472032679626505, 'regression_method': 'ridge', 'ridge_alpha': 0.14444059926816794}. Best is trial 21 with value: 29.783302868539515.\u001b[0m\n",
      "\u001b[32m[I 2022-01-12 23:57:11,536]\u001b[0m Trial 34 finished with value: 29.789450762582433 and parameters: {'alpha': 1.7340717190928967, 'regression_method': 'ridge', 'ridge_alpha': 0.007358376277408939}. Best is trial 21 with value: 29.783302868539515.\u001b[0m\n",
      "\u001b[32m[I 2022-01-12 23:57:11,549]\u001b[0m Trial 35 finished with value: 29.99503401768824 and parameters: {'alpha': 1.8628447045863474, 'regression_method': 'ridge', 'ridge_alpha': 0.22856537417101874}. Best is trial 21 with value: 29.783302868539515.\u001b[0m\n",
      "\u001b[32m[I 2022-01-12 23:57:11,572]\u001b[0m Trial 36 finished with value: 30.841567347795195 and parameters: {'alpha': 1.7337928120856938, 'regression_method': 'ridge', 'ridge_alpha': 1.9139299522383988}. Best is trial 21 with value: 29.783302868539515.\u001b[0m\n",
      "\u001b[32m[I 2022-01-12 23:57:11,591]\u001b[0m Trial 37 finished with value: 34.682157441047316 and parameters: {'alpha': 1.6216272485281142, 'regression_method': 'lasso', 'lasso_alpha': 0.7323830534802432}. Best is trial 21 with value: 29.783302868539515.\u001b[0m\n",
      "\u001b[32m[I 2022-01-12 23:57:11,606]\u001b[0m Trial 38 finished with value: 30.193413552580537 and parameters: {'alpha': 1.7529166583408549, 'regression_method': 'ridge', 'ridge_alpha': 0.47800745270997025}. Best is trial 21 with value: 29.783302868539515.\u001b[0m\n",
      "\u001b[32m[I 2022-01-12 23:57:11,626]\u001b[0m Trial 39 finished with value: 39.16870831051555 and parameters: {'alpha': 1.921175215151353, 'regression_method': 'lasso', 'lasso_alpha': 1.3607923960252875}. Best is trial 21 with value: 29.783302868539515.\u001b[0m\n",
      "\u001b[32m[I 2022-01-12 23:57:11,652]\u001b[0m Trial 40 finished with value: 30.640229471648812 and parameters: {'alpha': 0.494165472124912, 'regression_method': 'ridge', 'ridge_alpha': 1.3068544052123512}. Best is trial 21 with value: 29.783302868539515.\u001b[0m\n",
      "\u001b[32m[I 2022-01-12 23:57:11,668]\u001b[0m Trial 41 finished with value: 29.788768078569877 and parameters: {'alpha': 1.2400665895862075, 'regression_method': 'ridge', 'ridge_alpha': 0.006660580455573831}. Best is trial 21 with value: 29.783302868539515.\u001b[0m\n",
      "\u001b[32m[I 2022-01-12 23:57:11,687]\u001b[0m Trial 42 finished with value: 29.91499094006818 and parameters: {'alpha': 1.3446022023453663, 'regression_method': 'ridge', 'ridge_alpha': 0.13918469441420112}. Best is trial 21 with value: 29.783302868539515.\u001b[0m\n",
      "\u001b[32m[I 2022-01-12 23:57:11,719]\u001b[0m Trial 43 finished with value: 29.78365485675748 and parameters: {'alpha': 1.4887818144257907, 'regression_method': 'ridge', 'ridge_alpha': 0.0014384866798408539}. Best is trial 21 with value: 29.783302868539515.\u001b[0m\n",
      "\u001b[32m[I 2022-01-12 23:57:11,748]\u001b[0m Trial 44 finished with value: 30.126232571424175 and parameters: {'alpha': 1.4459628522924248, 'regression_method': 'ridge', 'ridge_alpha': 0.38822962895820945}. Best is trial 21 with value: 29.783302868539515.\u001b[0m\n",
      "\u001b[32m[I 2022-01-12 23:57:11,770]\u001b[0m Trial 45 finished with value: 33.025026436165405 and parameters: {'alpha': 1.1788446882738715, 'regression_method': 'lasso', 'lasso_alpha': 0.39754555261429714}. Best is trial 21 with value: 29.783302868539515.\u001b[0m\n",
      "\u001b[32m[I 2022-01-12 23:57:11,798]\u001b[0m Trial 46 finished with value: 29.91840018104041 and parameters: {'alpha': 1.486231982683018, 'regression_method': 'ridge', 'ridge_alpha': 0.14289140392153557}. Best is trial 21 with value: 29.783302868539515.\u001b[0m\n",
      "\u001b[32m[I 2022-01-12 23:57:11,817]\u001b[0m Trial 47 finished with value: 30.033119559132754 and parameters: {'alpha': 1.8079962781208476, 'regression_method': 'ridge', 'ridge_alpha': 0.2730455200656553}. Best is trial 21 with value: 29.783302868539515.\u001b[0m\n",
      "\u001b[32m[I 2022-01-12 23:57:11,845]\u001b[0m Trial 48 finished with value: 29.870952162876026 and parameters: {'alpha': 0.935230283686964, 'regression_method': 'ridge', 'ridge_alpha': 0.09198898705898577}. Best is trial 21 with value: 29.783302868539515.\u001b[0m\n",
      "\u001b[32m[I 2022-01-12 23:57:11,862]\u001b[0m Trial 49 finished with value: 29.792203190453876 and parameters: {'alpha': 1.909470579059166, 'regression_method': 'ridge', 'ridge_alpha': 0.010173160416094465}. Best is trial 21 with value: 29.783302868539515.\u001b[0m\n",
      "\u001b[32m[I 2022-01-12 23:57:11,877]\u001b[0m Trial 50 finished with value: 39.06691751214693 and parameters: {'alpha': 1.2394799109193417, 'regression_method': 'lasso', 'lasso_alpha': 1.3239603278430827}. Best is trial 21 with value: 29.783302868539515.\u001b[0m\n",
      "\u001b[32m[I 2022-01-12 23:57:11,892]\u001b[0m Trial 51 finished with value: 29.806709332626976 and parameters: {'alpha': 1.9948272449531639, 'regression_method': 'ridge', 'ridge_alpha': 0.02504861908189237}. Best is trial 21 with value: 29.783302868539515.\u001b[0m\n",
      "\u001b[32m[I 2022-01-12 23:57:11,908]\u001b[0m Trial 52 finished with value: 29.897176569656832 and parameters: {'alpha': 1.8985521991576702, 'regression_method': 'ridge', 'ridge_alpha': 0.11994457651678445}. Best is trial 21 with value: 29.783302868539515.\u001b[0m\n",
      "\u001b[32m[I 2022-01-12 23:57:11,925]\u001b[0m Trial 53 finished with value: 29.804076729786967 and parameters: {'alpha': 1.704529715150267, 'regression_method': 'ridge', 'ridge_alpha': 0.02234362842499482}. Best is trial 21 with value: 29.783302868539515.\u001b[0m\n",
      "\u001b[32m[I 2022-01-12 23:57:11,941]\u001b[0m Trial 54 finished with value: 30.028198397659438 and parameters: {'alpha': 1.6066507422833913, 'regression_method': 'ridge', 'ridge_alpha': 0.26721923956359916}. Best is trial 21 with value: 29.783302868539515.\u001b[0m\n",
      "\u001b[32m[I 2022-01-12 23:57:11,959]\u001b[0m Trial 55 finished with value: 29.784607908105638 and parameters: {'alpha': 1.7750542075524491, 'regression_method': 'ridge', 'ridge_alpha': 0.0024112661422130673}. Best is trial 21 with value: 29.783302868539515.\u001b[0m\n",
      "\u001b[32m[I 2022-01-12 23:57:11,980]\u001b[0m Trial 56 finished with value: 30.738071655481512 and parameters: {'alpha': 1.3861659590633266, 'regression_method': 'ridge', 'ridge_alpha': 1.574628587525042}. Best is trial 21 with value: 29.783302868539515.\u001b[0m\n",
      "\u001b[32m[I 2022-01-12 23:57:12,001]\u001b[0m Trial 57 finished with value: 29.893412204167433 and parameters: {'alpha': 1.5145283958082332, 'regression_method': 'ridge', 'ridge_alpha': 0.11590564275128933}. Best is trial 21 with value: 29.783302868539515.\u001b[0m\n",
      "\u001b[32m[I 2022-01-12 23:57:12,021]\u001b[0m Trial 58 finished with value: 29.99595550489542 and parameters: {'alpha': 1.7914199604911243, 'regression_method': 'ridge', 'ridge_alpha': 0.22962551733638337}. Best is trial 21 with value: 29.783302868539515.\u001b[0m\n",
      "\u001b[32m[I 2022-01-12 23:57:12,042]\u001b[0m Trial 59 finished with value: 30.185822304082887 and parameters: {'alpha': 1.7041767563779535, 'regression_method': 'ridge', 'ridge_alpha': 0.46754817694218737}. Best is trial 21 with value: 29.783302868539515.\u001b[0m\n",
      "\u001b[32m[I 2022-01-12 23:57:12,061]\u001b[0m Trial 60 finished with value: 29.849094637747946 and parameters: {'alpha': 1.5929045346777864, 'regression_method': 'ridge', 'ridge_alpha': 0.06899022201659111}. Best is trial 21 with value: 29.783302868539515.\u001b[0m\n",
      "\u001b[32m[I 2022-01-12 23:57:12,084]\u001b[0m Trial 61 finished with value: 29.786685057176207 and parameters: {'alpha': 1.9387989464886677, 'regression_method': 'ridge', 'ridge_alpha': 0.0045322995606763734}. Best is trial 21 with value: 29.783302868539515.\u001b[0m\n",
      "\u001b[32m[I 2022-01-12 23:57:12,102]\u001b[0m Trial 62 finished with value: 29.79109440128642 and parameters: {'alpha': 1.8007928402061333, 'regression_method': 'ridge', 'ridge_alpha': 0.009038973472897009}. Best is trial 21 with value: 29.783302868539515.\u001b[0m\n",
      "\u001b[32m[I 2022-01-12 23:57:12,121]\u001b[0m Trial 63 finished with value: 30.563614019537585 and parameters: {'alpha': 1.8482239464259311, 'regression_method': 'ridge', 'ridge_alpha': 1.1253150021499791}. Best is trial 21 with value: 29.783302868539515.\u001b[0m\n",
      "\u001b[32m[I 2022-01-12 23:57:12,135]\u001b[0m Trial 64 finished with value: 29.874749167114505 and parameters: {'alpha': 1.9547578694934908, 'regression_method': 'ridge', 'ridge_alpha': 0.09601114513698265}. Best is trial 21 with value: 29.783302868539515.\u001b[0m\n",
      "\u001b[32m[I 2022-01-12 23:57:12,149]\u001b[0m Trial 65 finished with value: 30.06001234713328 and parameters: {'alpha': 1.6765686749586712, 'regression_method': 'ridge', 'ridge_alpha': 0.30532239356042445}. Best is trial 21 with value: 29.783302868539515.\u001b[0m\n",
      "\u001b[32m[I 2022-01-12 23:57:12,161]\u001b[0m Trial 66 finished with value: 29.78490803554816 and parameters: {'alpha': 1.3154094605838238, 'regression_method': 'ridge', 'ridge_alpha': 0.0027176587956475283}. Best is trial 21 with value: 29.783302868539515.\u001b[0m\n",
      "\u001b[32m[I 2022-01-12 23:57:12,177]\u001b[0m Trial 67 finished with value: 29.86399712733805 and parameters: {'alpha': 1.142285294196128, 'regression_method': 'ridge', 'ridge_alpha': 0.08464273619391839}. Best is trial 21 with value: 29.783302868539515.\u001b[0m\n",
      "\u001b[32m[I 2022-01-12 23:57:12,206]\u001b[0m Trial 68 finished with value: 29.969919056537453 and parameters: {'alpha': 1.2979650861577212, 'regression_method': 'ridge', 'ridge_alpha': 0.19996009296067838}. Best is trial 21 with value: 29.783302868539515.\u001b[0m\n",
      "\u001b[32m[I 2022-01-12 23:57:12,232]\u001b[0m Trial 69 finished with value: 41.29685871036413 and parameters: {'alpha': 1.0653436570739554, 'regression_method': 'lasso', 'lasso_alpha': 1.9918770281807685}. Best is trial 21 with value: 29.783302868539515.\u001b[0m\n",
      "\u001b[32m[I 2022-01-12 23:57:12,255]\u001b[0m Trial 70 finished with value: 30.0690123442365 and parameters: {'alpha': 1.4293487209601137, 'regression_method': 'ridge', 'ridge_alpha': 0.31629545053079333}. Best is trial 21 with value: 29.783302868539515.\u001b[0m\n",
      "\u001b[32m[I 2022-01-12 23:57:12,278]\u001b[0m Trial 71 finished with value: 29.785885421269775 and parameters: {'alpha': 1.5539555411012054, 'regression_method': 'ridge', 'ridge_alpha': 0.0037156240398809976}. Best is trial 21 with value: 29.783302868539515.\u001b[0m\n",
      "\u001b[32m[I 2022-01-12 23:57:12,304]\u001b[0m Trial 72 finished with value: 29.87139648732578 and parameters: {'alpha': 1.5555746185941357, 'regression_method': 'ridge', 'ridge_alpha': 0.09245923121272168}. Best is trial 21 with value: 29.783302868539515.\u001b[0m\n",
      "\u001b[32m[I 2022-01-12 23:57:12,338]\u001b[0m Trial 73 finished with value: 29.95906836546584 and parameters: {'alpha': 1.3086577025552373, 'regression_method': 'ridge', 'ridge_alpha': 0.18776750053991392}. Best is trial 21 with value: 29.783302868539515.\u001b[0m\n",
      "\u001b[32m[I 2022-01-12 23:57:12,369]\u001b[0m Trial 74 finished with value: 29.78701810305593 and parameters: {'alpha': 1.6418622190129764, 'regression_method': 'ridge', 'ridge_alpha': 0.004872496733246437}. Best is trial 21 with value: 29.783302868539515.\u001b[0m\n",
      "\u001b[32m[I 2022-01-12 23:57:12,395]\u001b[0m Trial 75 finished with value: 29.857155705428745 and parameters: {'alpha': 1.5234839290612465, 'regression_method': 'ridge', 'ridge_alpha': 0.0774424355621659}. Best is trial 21 with value: 29.783302868539515.\u001b[0m\n",
      "\u001b[32m[I 2022-01-12 23:57:12,423]\u001b[0m Trial 76 finished with value: 29.943073512883977 and parameters: {'alpha': 1.4113055255884306, 'regression_method': 'ridge', 'ridge_alpha': 0.16996757689780043}. Best is trial 21 with value: 29.783302868539515.\u001b[0m\n",
      "\u001b[32m[I 2022-01-12 23:57:12,453]\u001b[0m Trial 77 finished with value: 30.010935887119583 and parameters: {'alpha': 1.2167994079575366, 'regression_method': 'ridge', 'ridge_alpha': 0.24696942061020244}. Best is trial 21 with value: 29.783302868539515.\u001b[0m\n",
      "\u001b[32m[I 2022-01-12 23:57:12,477]\u001b[0m Trial 78 finished with value: 30.351895901661397 and parameters: {'alpha': 1.3466810124568371, 'regression_method': 'ridge', 'ridge_alpha': 0.718078756685694}. Best is trial 21 with value: 29.783302868539515.\u001b[0m\n",
      "\u001b[32m[I 2022-01-12 23:57:12,501]\u001b[0m Trial 79 finished with value: 30.44300643395788 and parameters: {'alpha': 1.6413976699553916, 'regression_method': 'ridge', 'ridge_alpha': 0.8788376602547039}. Best is trial 21 with value: 29.783302868539515.\u001b[0m\n",
      "\u001b[32m[I 2022-01-12 23:57:12,517]\u001b[0m Trial 80 finished with value: 30.129407661065738 and parameters: {'alpha': 1.4787610322202525, 'regression_method': 'ridge', 'ridge_alpha': 0.392337236382719}. Best is trial 21 with value: 29.783302868539515.\u001b[0m\n",
      "\u001b[32m[I 2022-01-12 23:57:12,534]\u001b[0m Trial 81 finished with value: 29.834863725599075 and parameters: {'alpha': 1.5773452251032176, 'regression_method': 'ridge', 'ridge_alpha': 0.054147800201879426}. Best is trial 21 with value: 29.783302868539515.\u001b[0m\n",
      "\u001b[32m[I 2022-01-12 23:57:12,555]\u001b[0m Trial 82 finished with value: 29.92127397755291 and parameters: {'alpha': 1.7642580984693828, 'regression_method': 'ridge', 'ridge_alpha': 0.14602228874522213}. Best is trial 21 with value: 29.783302868539515.\u001b[0m\n",
      "\u001b[32m[I 2022-01-12 23:57:12,571]\u001b[0m Trial 83 finished with value: 29.836072221518343 and parameters: {'alpha': 1.6270705849854556, 'regression_method': 'ridge', 'ridge_alpha': 0.05540447926506233}. Best is trial 21 with value: 29.783302868539515.\u001b[0m\n",
      "\u001b[32m[I 2022-01-12 23:57:12,587]\u001b[0m Trial 84 finished with value: 29.787370323290432 and parameters: {'alpha': 1.7183101288414078, 'regression_method': 'ridge', 'ridge_alpha': 0.0052323149875283465}. Best is trial 21 with value: 29.783302868539515.\u001b[0m\n",
      "\u001b[32m[I 2022-01-12 23:57:12,614]\u001b[0m Trial 85 finished with value: 29.794980757871038 and parameters: {'alpha': 1.8472939269908768, 'regression_method': 'ridge', 'ridge_alpha': 0.013016036178681144}. Best is trial 21 with value: 29.783302868539515.\u001b[0m\n",
      "\u001b[32m[I 2022-01-12 23:57:12,638]\u001b[0m Trial 86 finished with value: 39.92992323792503 and parameters: {'alpha': 1.7111504264078883, 'regression_method': 'lasso', 'lasso_alpha': 1.6120366752472859}. Best is trial 21 with value: 29.783302868539515.\u001b[0m\n",
      "\u001b[32m[I 2022-01-12 23:57:12,662]\u001b[0m Trial 87 finished with value: 29.919577026166742 and parameters: {'alpha': 1.652283522713853, 'regression_method': 'ridge', 'ridge_alpha': 0.14417282374423693}. Best is trial 21 with value: 29.783302868539515.\u001b[0m\n",
      "\u001b[32m[I 2022-01-12 23:57:12,682]\u001b[0m Trial 88 finished with value: 29.84420796469047 and parameters: {'alpha': 1.8738382396610465, 'regression_method': 'ridge', 'ridge_alpha': 0.06388249965273175}. Best is trial 21 with value: 29.783302868539515.\u001b[0m\n",
      "\u001b[32m[I 2022-01-12 23:57:12,707]\u001b[0m Trial 89 finished with value: 29.783293191182963 and parameters: {'alpha': 1.8072253191113776, 'regression_method': 'ridge', 'ridge_alpha': 0.0010694006177932522}. Best is trial 89 with value: 29.783293191182963.\u001b[0m\n",
      "\u001b[32m[I 2022-01-12 23:57:12,727]\u001b[0m Trial 90 finished with value: 29.969328628477125 and parameters: {'alpha': 1.7501760467643197, 'regression_method': 'ridge', 'ridge_alpha': 0.1992941367316424}. Best is trial 89 with value: 29.783293191182963.\u001b[0m\n",
      "\u001b[32m[I 2022-01-12 23:57:12,746]\u001b[0m Trial 91 finished with value: 29.789190097277654 and parameters: {'alpha': 1.9462106501620233, 'regression_method': 'ridge', 'ridge_alpha': 0.007091924507399556}. Best is trial 89 with value: 29.783293191182963.\u001b[0m\n",
      "\u001b[32m[I 2022-01-12 23:57:12,765]\u001b[0m Trial 92 finished with value: 29.905147846334227 and parameters: {'alpha': 1.816187830765087, 'regression_method': 'ridge', 'ridge_alpha': 0.12852760350831538}. Best is trial 89 with value: 29.783293191182963.\u001b[0m\n",
      "\u001b[32m[I 2022-01-12 23:57:12,784]\u001b[0m Trial 93 finished with value: 29.84227111218348 and parameters: {'alpha': 1.4946601862624118, 'regression_method': 'ridge', 'ridge_alpha': 0.06186128772181811}. Best is trial 89 with value: 29.783293191182963.\u001b[0m\n",
      "\u001b[32m[I 2022-01-12 23:57:12,805]\u001b[0m Trial 94 finished with value: 29.78224755214686 and parameters: {'alpha': 1.9784915245374342, 'regression_method': 'ridge', 'ridge_alpha': 2.509488293806145e-06}. Best is trial 94 with value: 29.78224755214686.\u001b[0m\n",
      "\u001b[32m[I 2022-01-12 23:57:12,822]\u001b[0m Trial 95 finished with value: 29.89310781193372 and parameters: {'alpha': 1.9698983736221776, 'regression_method': 'ridge', 'ridge_alpha': 0.11557944323133021}. Best is trial 94 with value: 29.78224755214686.\u001b[0m\n",
      "\u001b[32m[I 2022-01-12 23:57:12,849]\u001b[0m Trial 96 finished with value: 29.843027263847066 and parameters: {'alpha': 1.9069291082682744, 'regression_method': 'ridge', 'ridge_alpha': 0.06265015648139871}. Best is trial 94 with value: 29.78224755214686.\u001b[0m\n",
      "\u001b[32m[I 2022-01-12 23:57:12,877]\u001b[0m Trial 97 finished with value: 29.985416987340198 and parameters: {'alpha': 1.8283730297649583, 'regression_method': 'ridge', 'ridge_alpha': 0.21754670281049238}. Best is trial 94 with value: 29.78224755214686.\u001b[0m\n",
      "\u001b[32m[I 2022-01-12 23:57:12,898]\u001b[0m Trial 98 finished with value: 29.922823520844826 and parameters: {'alpha': 1.8800184148426273, 'regression_method': 'ridge', 'ridge_alpha': 0.14771288382626266}. Best is trial 94 with value: 29.78224755214686.\u001b[0m\n",
      "\u001b[32m[I 2022-01-12 23:57:12,926]\u001b[0m Trial 99 finished with value: 36.25071268955505 and parameters: {'alpha': 1.9898877741533003, 'regression_method': 'lasso', 'lasso_alpha': 0.9533742428663884}. Best is trial 94 with value: 29.78224755214686.\u001b[0m\n"
     ]
    },
    {
     "name": "stdout",
     "output_type": "stream",
     "text": [
      "best error: 29.78224755214686\n",
      "best hyper parameter: {'alpha': 1.9784915245374342, 'regression_method': 'ridge', 'ridge_alpha': 2.509488293806145e-06}\n"
     ]
    }
   ],
   "source": [
    "study = optuna.create_study()\n",
    "study.optimize(objective, n_trials=100)\n",
    "\n",
    "print(f'best error: {study.best_value}')\n",
    "print(f'best hyper parameter: {study.best_params}')"
   ]
  }
 ],
 "metadata": {
  "kernelspec": {
   "display_name": "Python 3 (ipykernel)",
   "language": "python",
   "name": "python3"
  },
  "language_info": {
   "codemirror_mode": {
    "name": "ipython",
    "version": 3
   },
   "file_extension": ".py",
   "mimetype": "text/x-python",
   "name": "python",
   "nbconvert_exporter": "python",
   "pygments_lexer": "ipython3",
   "version": "3.8.6"
  }
 },
 "nbformat": 4,
 "nbformat_minor": 5
}
